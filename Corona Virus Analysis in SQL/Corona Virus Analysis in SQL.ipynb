{
 "cells": [
  {
   "cell_type": "code",
   "execution_count": 1,
   "id": "76b386bf",
   "metadata": {},
   "outputs": [],
   "source": [
    "import pandas as pd\n",
    "import sqlite3"
   ]
  },
  {
   "cell_type": "code",
   "execution_count": 2,
   "id": "2db17c3d",
   "metadata": {},
   "outputs": [
    {
     "data": {
      "text/plain": [
       "78386"
      ]
     },
     "execution_count": 2,
     "metadata": {},
     "output_type": "execute_result"
    }
   ],
   "source": [
    "# Read the CSV file into a pandas DataFrame\n",
    "data = pd.read_csv('E:\\Training\\Mentorness\\Corona Virus Analysis in SQL\\Corona Virus Dataset.csv')\n",
    "\n",
    "# Create an in-memory SQLite database\n",
    "conn = sqlite3.connect(':memory:')\n",
    "cursor = conn.cursor()\n",
    "\n",
    "# Create a table in the database and insert the data from the DataFrame\n",
    "data.to_sql('corona_data', conn, index=False)"
   ]
  },
  {
   "cell_type": "code",
   "execution_count": 3,
   "id": "0ad41d32",
   "metadata": {},
   "outputs": [],
   "source": [
    "# Function to execute SQL queries and return results as DataFrame\n",
    "def run_query(query):\n",
    "    return pd.read_sql(query, conn)"
   ]
  },
  {
   "cell_type": "code",
   "execution_count": 4,
   "id": "503199b7",
   "metadata": {},
   "outputs": [
    {
     "name": "stdout",
     "output_type": "stream",
     "text": [
      "Null Values:\n",
      " Empty DataFrame\n",
      "Columns: [Province, Country/Region, Latitude, Longitude, Date, Confirmed, Deaths, Recovered]\n",
      "Index: []\n"
     ]
    }
   ],
   "source": [
    "# Q1. Check NULL values for all columns\n",
    "query_1 = \"\"\"\n",
    "    SELECT *\n",
    "    FROM corona_data\n",
    "    WHERE \n",
    "        Province IS NULL OR\n",
    "        \"Country/Region\" IS NULL OR\n",
    "        Latitude IS NULL OR \n",
    "        Longitude IS NULL OR\n",
    "        Date IS NULL OR\n",
    "        Confirmed IS NULL OR\n",
    "        Deaths IS NULL OR\n",
    "        Recovered IS NULL;  \n",
    "\"\"\"\n",
    "null_values = run_query(query_1)\n",
    "print(\"Null Values:\\n\", null_values)"
   ]
  },
  {
   "cell_type": "code",
   "execution_count": 5,
   "id": "2b8574e5",
   "metadata": {},
   "outputs": [],
   "source": [
    "# Q2. Update NULL values with zeros for all columns\n",
    "query_2 = \"\"\"\n",
    "    UPDATE corona_data\n",
    "    SET \n",
    "        Province = COALESCE(Province, ''),\n",
    "        \"Country/Region\" = COALESCE(\"Country/Region\", ''),\n",
    "        Latitude = COALESCE(Latitude, 0),\n",
    "        Longitude = COALESCE(Longitude, 0),\n",
    "        Date = COALESCE(Date, ''),\n",
    "        Confirmed = COALESCE(Confirmed, 0),\n",
    "        Deaths = COALESCE(Deaths, 0),\n",
    "        Recovered = COALESCE(Recovered, 0);\n",
    "\"\"\"\n",
    "conn.execute(query_2)\n",
    "conn.commit()"
   ]
  },
  {
   "cell_type": "code",
   "execution_count": 7,
   "id": "56f11046",
   "metadata": {},
   "outputs": [
    {
     "name": "stdout",
     "output_type": "stream",
     "text": [
      "   Total_Number_Of_Rows\n",
      "0                 78386\n"
     ]
    }
   ],
   "source": [
    "# Q3. check total number of rows\n",
    "query_3 = \"\"\"\n",
    "    SELECT count(*) AS Total_Number_Of_Rows\n",
    "    FROM corona_data;\n",
    "\"\"\"\n",
    "total_rows = run_query(query_3)\n",
    "print(total_rows)"
   ]
  },
  {
   "cell_type": "code",
   "execution_count": 8,
   "id": "47a9a0a5",
   "metadata": {},
   "outputs": [
    {
     "name": "stdout",
     "output_type": "stream",
     "text": [
      "   Start_Date    End_Date\n",
      "0  01-01-2021  31-12-2020\n"
     ]
    }
   ],
   "source": [
    "query_4 = \"SELECT MIN(Date) AS Start_Date, MAX(Date) AS End_Date FROM corona_data;\"\n",
    "dates = run_query(query_4)\n",
    "print(dates)"
   ]
  },
  {
   "cell_type": "code",
   "execution_count": 9,
   "id": "6c6fa197",
   "metadata": {
    "scrolled": true
   },
   "outputs": [
    {
     "name": "stdout",
     "output_type": "stream",
     "text": [
      "Number of Months Present in Dataset: 18\n"
     ]
    }
   ],
   "source": [
    "# Q5. Number of months present in dataset\n",
    "query_5 = \"\"\"\n",
    "    SELECT COUNT(DISTINCT strftime('%m-%Y', substr(Date, 7, 4) || '-' || substr(Date, 4, 2) || '-' || substr(Date, 1, 2))) AS num_months\n",
    "    FROM corona_data;\n",
    "\"\"\"\n",
    "num_months_result = run_query(query_5)\n",
    "print(\"Number of Months Present in Dataset:\", num_months_result['num_months'].values[0])"
   ]
  },
  {
   "cell_type": "code",
   "execution_count": 14,
   "id": "ec49df12",
   "metadata": {},
   "outputs": [
    {
     "name": "stdout",
     "output_type": "stream",
     "text": [
      "Average for Confirmed, Deaths, Recovered in Each Month:\n",
      "  month  avg_confirmed  avg_deaths  avg_recovered\n",
      "0  None    2156.828311    46.53757    1442.726354\n"
     ]
    }
   ],
   "source": [
    "# Q6. Find average for confirmed, deaths, recovered in each month in Date column\n",
    "query_6 = \"\"\"\n",
    "    SELECT \n",
    "        strftime('%Y-%m', date) AS month,\n",
    "        AVG(confirmed) AS avg_confirmed,\n",
    "        AVG(deaths) AS avg_deaths,\n",
    "        AVG(recovered) AS avg_recovered\n",
    "    FROM corona_data\n",
    "    GROUP BY month\n",
    "    ORDER BY month;\n",
    "\"\"\"\n",
    "\n",
    "\n",
    "result_6 = run_query(query_6)\n",
    "print(\"Average for Confirmed, Deaths, Recovered in Each Month:\")\n",
    "print(result_6)"
   ]
  },
  {
   "cell_type": "code",
   "execution_count": 25,
   "id": "dd1f3b0d",
   "metadata": {},
   "outputs": [
    {
     "name": "stdout",
     "output_type": "stream",
     "text": [
      "Most Frequent Value for Confirmed Cases:    Most_Frequent_Confirmed\n",
      "0                        0\n",
      "Most Frequent Value for Deaths:    Most_Frequent_Deaths\n",
      "0                     0\n",
      "Most Frequent Value for Recovered Cases:    Most_Frequent_Recovered\n",
      "0                        0\n"
     ]
    }
   ],
   "source": [
    "# Q7. Find most frequent value for confirmed, deaths, recovered each month\n",
    "# Find most frequent value for confirmed cases\n",
    "query_confirmed = \"\"\"\n",
    "    SELECT confirmed AS Most_Frequent_Confirmed\n",
    "    FROM corona_data\n",
    "    GROUP BY confirmed\n",
    "    ORDER BY COUNT(*) DESC\n",
    "    LIMIT 1;\n",
    "\"\"\"\n",
    "result_confirmed = run_query(query_confirmed)\n",
    "\n",
    "# Find most frequent value for deaths\n",
    "query_deaths = \"\"\"\n",
    "    SELECT deaths AS Most_Frequent_Deaths\n",
    "    FROM corona_data\n",
    "    GROUP BY deaths\n",
    "    ORDER BY COUNT(*) DESC\n",
    "    LIMIT 1;\n",
    "\"\"\"\n",
    "result_deaths = run_query(query_deaths)\n",
    "\n",
    "# Find most frequent value for recovered cases\n",
    "query_recovered = \"\"\"\n",
    "    SELECT recovered AS Most_Frequent_Recovered\n",
    "    FROM corona_data\n",
    "    GROUP BY recovered\n",
    "    ORDER BY COUNT(*) DESC\n",
    "    LIMIT 1;\n",
    "\"\"\"\n",
    "result_recovered = run_query(query_recovered)\n",
    "\n",
    "# Display results\n",
    "print(\"Most Frequent Value for Confirmed Cases:\", result_confirmed)\n",
    "print(\"Most Frequent Value for Deaths:\", result_deaths)\n",
    "print(\"Most Frequent Value for Recovered Cases:\", result_recovered)"
   ]
  },
  {
   "cell_type": "code",
   "execution_count": 6,
   "id": "5d77abfd",
   "metadata": {},
   "outputs": [
    {
     "name": "stdout",
     "output_type": "stream",
     "text": [
      "Minimum Values of Confirmed, Deaths, Recovered Per Year:\n",
      "   year  min_confirmed  min_deaths  min_recovered\n",
      "0  None              0           0              0\n"
     ]
    }
   ],
   "source": [
    "# Q8: Find minimum values for confirmed, deaths, recovered per year\n",
    "query_8 = \"\"\"\n",
    "    SELECT \n",
    "        strftime('%Y', date) AS year,\n",
    "        MIN(confirmed) AS min_confirmed,\n",
    "        MIN(deaths) AS min_deaths,\n",
    "        MIN(recovered) AS min_recovered\n",
    "    FROM corona_data\n",
    "    GROUP BY strftime('%Y', date);\n",
    "\"\"\"\n",
    "result_8 = run_query(query_8)\n",
    "print(\"Minimum Values of Confirmed, Deaths, Recovered Per Year:\")\n",
    "print(result_8)"
   ]
  },
  {
   "cell_type": "code",
   "execution_count": 26,
   "id": "c1cac0e4",
   "metadata": {},
   "outputs": [
    {
     "name": "stdout",
     "output_type": "stream",
     "text": [
      "Maximum Values of Confirmed, Deaths, Recovered Per Year:\n",
      "   year  max_confirmed  max_deaths  max_recovered\n",
      "0  None         823225        7374        1123456\n"
     ]
    }
   ],
   "source": [
    "# Q9. Find maximum values of confirmed, deaths, recovered per year\n",
    "query_9 = \"\"\"\n",
    "    SELECT \n",
    "        strftime('%Y', date) AS year,\n",
    "        MAX(confirmed) AS max_confirmed,\n",
    "        MAX(deaths) AS max_deaths,\n",
    "        MAX(recovered) AS max_recovered\n",
    "    FROM corona_data\n",
    "    GROUP BY strftime('%Y', date);\n",
    "\"\"\"\n",
    "result_9 = run_query(query_9)\n",
    "print(\"Maximum Values of Confirmed, Deaths, Recovered Per Year:\")\n",
    "print(result_9)"
   ]
  },
  {
   "cell_type": "code",
   "execution_count": 27,
   "id": "dc12346f",
   "metadata": {},
   "outputs": [
    {
     "name": "stdout",
     "output_type": "stream",
     "text": [
      "Total Number of Cases of Confirmed, Deaths, Recovered Each Month:\n",
      "  month  total_confirmed  total_deaths  total_recovered\n",
      "0  None        169065144       3647894        113089548\n"
     ]
    }
   ],
   "source": [
    "# Q10. The total number of case of confirmed, deaths, recovered each month\n",
    "query_10 = \"\"\"\n",
    "    SELECT \n",
    "        strftime('%Y-%m', date) AS month,\n",
    "        SUM(confirmed) AS total_confirmed,\n",
    "        SUM(deaths) AS total_deaths,\n",
    "        SUM(recovered) AS total_recovered\n",
    "    FROM corona_data\n",
    "    GROUP BY strftime('%Y-%m', date);\n",
    "\"\"\"\n",
    "result_10 = run_query(query_10)\n",
    "print(\"Total Number of Cases of Confirmed, Deaths, Recovered Each Month:\")\n",
    "print(result_10)"
   ]
  },
  {
   "cell_type": "code",
   "execution_count": 36,
   "id": "0af829cb",
   "metadata": {},
   "outputs": [
    {
     "name": "stdout",
     "output_type": "stream",
     "text": [
      "Spread of Coronavirus with Respect to Confirmed Cases:\n",
      "   total_cases  avg_confirmed  variance_confirmed  stdev_confirmed\n",
      "0        78386    2156.828311        1.572889e+08     12541.488152\n"
     ]
    }
   ],
   "source": [
    "# Q11. Check how corona virus spread out with respect to confirmed case\n",
    "query_11 = \"\"\"\n",
    "    SELECT \n",
    "        COUNT(*) AS total_cases,\n",
    "        AVG(confirmed) AS avg_confirmed,\n",
    "        SUM((confirmed - (SELECT AVG(confirmed) FROM corona_data)) * (confirmed - (SELECT AVG(confirmed) FROM corona_data))) / COUNT(*) AS variance_confirmed\n",
    "    FROM corona_data;\n",
    "\"\"\"\n",
    "\n",
    "result_11 = run_query(query_11)\n",
    "\n",
    "# Calculate standard deviation in Python\n",
    "variance_confirmed = result_11['variance_confirmed'].values[0]\n",
    "stdev_confirmed = variance_confirmed ** 0.5\n",
    "\n",
    "# Add standard deviation to the result DataFrame\n",
    "result_11['stdev_confirmed'] = stdev_confirmed\n",
    "\n",
    "print(\"Spread of Coronavirus with Respect to Confirmed Cases:\")\n",
    "print(result_11)"
   ]
  },
  {
   "cell_type": "code",
   "execution_count": 38,
   "id": "3455f0ae",
   "metadata": {},
   "outputs": [
    {
     "name": "stdout",
     "output_type": "stream",
     "text": [
      "Spread of Coronavirus with Respect to Death Cases:\n",
      "  month  total_deaths  avg_deaths  variance_deaths  stdev_deaths\n",
      "0  None         78386    46.53757     45892.018854    214.224226\n"
     ]
    }
   ],
   "source": [
    "# Q12. Check how corona virus spread out with respect to death case per month\n",
    "query_12 = \"\"\"\n",
    "    SELECT \n",
    "        strftime('%Y-%m', Date) AS month,\n",
    "        COUNT(*) AS total_deaths,\n",
    "        AVG(deaths) AS avg_deaths,\n",
    "        SUM((deaths - (SELECT AVG(deaths) FROM corona_data)) * (deaths - (SELECT AVG(deaths) FROM corona_data))) / COUNT(*) AS variance_deaths\n",
    "    FROM corona_data\n",
    "    GROUP BY month\n",
    "    ORDER BY month;\n",
    "\"\"\"\n",
    "\n",
    "result_12 = run_query(query_12)\n",
    "\n",
    "# Calculate standard deviation in Python\n",
    "variance_deaths = result_12['variance_deaths']\n",
    "stdev_deaths = variance_deaths.apply(lambda x: x ** 0.5)\n",
    "\n",
    "# Add standard deviation to the result DataFrame\n",
    "result_12['stdev_deaths'] = stdev_deaths\n",
    "\n",
    "print(\"Spread of Coronavirus with Respect to Death Cases:\")\n",
    "print(result_12)"
   ]
  },
  {
   "cell_type": "code",
   "execution_count": 39,
   "id": "040ad49e",
   "metadata": {},
   "outputs": [
    {
     "name": "stdout",
     "output_type": "stream",
     "text": [
      "Spread of Coronavirus with Respect to Recovered Cases:\n",
      "  month  total_recovered  avg_recovered  variance_recovered  stdev_recovered\n",
      "0  None            78386    1442.726354        1.070295e+08     10345.507395\n"
     ]
    }
   ],
   "source": [
    "# Q13. Check how corona virus spread out with respect to recovered case\n",
    "query_13 = \"\"\"\n",
    "    SELECT \n",
    "        strftime('%Y-%m', Date) AS month,\n",
    "        COUNT(*) AS total_recovered,\n",
    "        AVG(recovered) AS avg_recovered,\n",
    "        SUM((recovered - (SELECT AVG(recovered) FROM corona_data)) * (recovered - (SELECT AVG(recovered) FROM corona_data))) / COUNT(*) AS variance_recovered\n",
    "    FROM corona_data\n",
    "    GROUP BY month\n",
    "    ORDER BY month;\n",
    "\"\"\"\n",
    "\n",
    "result_13 = run_query(query_13)\n",
    "\n",
    "# Calculate standard deviation in Python\n",
    "variance_recovered = result_13['variance_recovered']\n",
    "stdev_recovered = variance_recovered.apply(lambda x: x ** 0.5)\n",
    "\n",
    "# Add standard deviation to the result DataFrame\n",
    "result_13['stdev_recovered'] = stdev_recovered\n",
    "\n",
    "print(\"Spread of Coronavirus with Respect to Recovered Cases:\")\n",
    "print(result_13)"
   ]
  },
  {
   "cell_type": "code",
   "execution_count": 43,
   "id": "7167e973",
   "metadata": {},
   "outputs": [
    {
     "name": "stdout",
     "output_type": "stream",
     "text": [
      "Country with the Highest Number of Confirmed Cases:\n",
      "  Country/Region  max_confirmed\n",
      "0         Turkey         823225\n"
     ]
    }
   ],
   "source": [
    "# Q14. Find Country having highest number of the Confirmed case\n",
    "query_14 = \"\"\"\n",
    "    SELECT \"Country/Region\", MAX(Confirmed) AS max_confirmed\n",
    "    FROM corona_data\n",
    "    GROUP BY \"Country/Region\"\n",
    "    ORDER BY max_confirmed DESC\n",
    "    LIMIT 1;\n",
    "\"\"\"\n",
    "\n",
    "result_14 = run_query(query_14)\n",
    "print(\"Country with the Highest Number of Confirmed Cases:\")\n",
    "print(result_14)"
   ]
  },
  {
   "cell_type": "code",
   "execution_count": 46,
   "id": "cffaa50b",
   "metadata": {},
   "outputs": [
    {
     "name": "stdout",
     "output_type": "stream",
     "text": [
      "Country with the Lowest Number of Death Cases:\n",
      "  Country/Region  min_deaths\n",
      "0    Afghanistan           0\n"
     ]
    }
   ],
   "source": [
    "# Q15. Find Country having lowest number of death cases\n",
    "query_15 = \"\"\"\n",
    "    SELECT \"Country/Region\", MIN(Deaths) AS min_deaths\n",
    "    FROM corona_data\n",
    "    GROUP BY \"Country/Region\"\n",
    "    ORDER BY min_deaths ASC\n",
    "    LIMIT 1;\n",
    "\"\"\"\n",
    "\n",
    "result_15 = run_query(query_15)\n",
    "print(\"Country with the Lowest Number of Death Cases:\")\n",
    "print(result_15)"
   ]
  },
  {
   "cell_type": "code",
   "execution_count": 47,
   "id": "6d8b6934",
   "metadata": {},
   "outputs": [
    {
     "name": "stdout",
     "output_type": "stream",
     "text": [
      "Top 5 Countries with the Highest Number of Recovered Cases:\n",
      "  Country/Region  total_recovered\n",
      "0          India         28089649\n",
      "1         Brazil         15400169\n",
      "2             US          6303715\n",
      "3         Turkey          5202251\n",
      "4         Russia          4745756\n"
     ]
    }
   ],
   "source": [
    "# Q16. Find top 5 countries having highest recovered cases\n",
    "query_16 = \"\"\"\n",
    "    SELECT \"Country/Region\", SUM(Recovered) AS total_recovered\n",
    "    FROM corona_data\n",
    "    GROUP BY \"Country/Region\"\n",
    "    ORDER BY total_recovered DESC\n",
    "    LIMIT 5;\n",
    "\"\"\"\n",
    "\n",
    "result_16 = run_query(query_16)\n",
    "print(\"Top 5 Countries with the Highest Number of Recovered Cases:\")\n",
    "print(result_16)"
   ]
  }
 ],
 "metadata": {
  "kernelspec": {
   "display_name": "Python 3 (ipykernel)",
   "language": "python",
   "name": "python3"
  },
  "language_info": {
   "codemirror_mode": {
    "name": "ipython",
    "version": 3
   },
   "file_extension": ".py",
   "mimetype": "text/x-python",
   "name": "python",
   "nbconvert_exporter": "python",
   "pygments_lexer": "ipython3",
   "version": "3.9.13"
  }
 },
 "nbformat": 4,
 "nbformat_minor": 5
}
